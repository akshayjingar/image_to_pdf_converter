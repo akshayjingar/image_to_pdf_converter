{
 "cells": [
  {
   "cell_type": "code",
   "execution_count": 1,
   "metadata": {},
   "outputs": [],
   "source": [
    "from PIL import Image\n",
    "import pytesseract\n",
    "from googletrans import Translator\n",
    "from fpdf import FPDF\n",
    "from deep_translator import GoogleTranslator\n",
    "\n",
    "# Initialize tanslator and pdf\n",
    "\n",
    "translator = Translator()\n",
    "pdf = FPDF()\n",
    "\n",
    "#list of image files\n",
    "images = ['image1.jpg']\n",
    "\n"
   ]
  },
  {
   "cell_type": "code",
   "execution_count": 28,
   "metadata": {},
   "outputs": [
    {
     "data": {
      "text/plain": [
       "''"
      ]
     },
     "execution_count": 28,
     "metadata": {},
     "output_type": "execute_result"
    }
   ],
   "source": [
    "\n",
    "for image in images:\n",
    "    img = Image.open(image)\n",
    "    text = pytesseract.image_to_string(img,lang='guj')\n",
    "\n",
    "    translation = GoogleTranslator(source='gu', target='en').translate(text)\n",
    "\n",
    "    pdf.add_page()\n",
    "    pdf.set_auto_page_break(auto=True, margin=15)\n",
    "    pdf.set_font(\"Arial\", size=10)\n",
    "    pdf.multi_cell(0, 10, translation)\n",
    "\n",
    "# Save PDF\n",
    "pdf.output(\"translated_book1.pdf\")"
   ]
  },
  {
   "cell_type": "code",
   "execution_count": null,
   "metadata": {},
   "outputs": [],
   "source": []
  }
 ],
 "metadata": {
  "kernelspec": {
   "display_name": ".venv",
   "language": "python",
   "name": "python3"
  },
  "language_info": {
   "codemirror_mode": {
    "name": "ipython",
    "version": 3
   },
   "file_extension": ".py",
   "mimetype": "text/x-python",
   "name": "python",
   "nbconvert_exporter": "python",
   "pygments_lexer": "ipython3",
   "version": "3.12.0"
  }
 },
 "nbformat": 4,
 "nbformat_minor": 2
}
